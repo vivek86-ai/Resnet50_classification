{
  "nbformat": 4,
  "nbformat_minor": 0,
  "metadata": {
    "colab": {
      "name": "CIFAR10_ResNet_Practice.ipynb",
      "provenance": [],
      "collapsed_sections": [],
      "authorship_tag": "ABX9TyP1i0XMarrxVI+xIV5hL3St",
      "include_colab_link": true
    },
    "kernelspec": {
      "name": "python3",
      "display_name": "Python 3"
    },
    "accelerator": "GPU"
  },
  "cells": [
    {
      "cell_type": "markdown",
      "metadata": {
        "id": "view-in-github",
        "colab_type": "text"
      },
      "source": [
        "<a href=\"https://colab.research.google.com/github/vivek86-ai/Resnet50_classification/blob/master/CIFAR10_ResNet_Practice.ipynb\" target=\"_parent\"><img src=\"https://colab.research.google.com/assets/colab-badge.svg\" alt=\"Open In Colab\"/></a>"
      ]
    },
    {
      "cell_type": "code",
      "metadata": {
        "id": "YYkDgA6TedQB",
        "colab_type": "code",
        "colab": {}
      },
      "source": [
        "import keras"
      ],
      "execution_count": 0,
      "outputs": []
    },
    {
      "cell_type": "code",
      "metadata": {
        "id": "35J6GtAEe0EV",
        "colab_type": "code",
        "colab": {}
      },
      "source": [
        "from keras.applications.resnet50 import ResNet50, preprocess_input\n",
        "\n",
        "from keras.layers import Flatten\n",
        "from keras.layers import Dense\n",
        "from keras.layers import Input\n",
        "from keras.layers import AveragePooling2D \n",
        "from keras.layers import Dropout\n",
        "\n",
        "from keras.optimizers import Adam\n",
        "\n",
        "from keras.models import Model\n",
        "\n",
        "from keras.datasets import cifar10\n",
        "\n",
        "import numpy as np\n",
        "import cv2\n",
        "\n",
        "from sklearn.metrics import classification_report\n",
        "from imutils import paths\n",
        "\n",
        "from keras.preprocessing.image import ImageDataGenerator\n",
        "from keras.preprocessing import image"
      ],
      "execution_count": 0,
      "outputs": []
    },
    {
      "cell_type": "code",
      "metadata": {
        "id": "xZyQeulVgAdQ",
        "colab_type": "code",
        "outputId": "ae30dc14-b036-4f4c-fa65-35a74b1e5ebb",
        "colab": {
          "base_uri": "https://localhost:8080/",
          "height": 34
        }
      },
      "source": [
        "#Mounting GDrive\n",
        "from google.colab import drive\n",
        "drive.mount('/content/gdrive/', force_remount=True)"
      ],
      "execution_count": 65,
      "outputs": [
        {
          "output_type": "stream",
          "text": [
            "Mounted at /content/gdrive/\n"
          ],
          "name": "stdout"
        }
      ]
    },
    {
      "cell_type": "code",
      "metadata": {
        "id": "HF5sExmOgSAp",
        "colab_type": "code",
        "outputId": "cf3fe744-3076-4deb-fa34-4cf658593bfc",
        "colab": {
          "base_uri": "https://localhost:8080/",
          "height": 34
        }
      },
      "source": [
        "!ls 'gdrive/My Drive/ResNet_CIFAR10'"
      ],
      "execution_count": 66,
      "outputs": [
        {
          "output_type": "stream",
          "text": [
            "ResNet_class_data.zip\n"
          ],
          "name": "stdout"
        }
      ]
    },
    {
      "cell_type": "code",
      "metadata": {
        "id": "PcJnPwxziRQl",
        "colab_type": "code",
        "outputId": "0a6ca0d0-5314-412f-e69c-6213b5e9ad1a",
        "colab": {
          "base_uri": "https://localhost:8080/",
          "height": 34
        }
      },
      "source": [
        "#Unzipping the \"ResNet_class_data.zip\"\n",
        "!unzip -q \"gdrive/My Drive/ResNet_CIFAR10/ResNet_class_data.zip\""
      ],
      "execution_count": 67,
      "outputs": [
        {
          "output_type": "stream",
          "text": [
            "replace data/test/backpack/00000010.png? [y]es, [n]o, [A]ll, [N]one, [r]ename: A\n"
          ],
          "name": "stdout"
        }
      ]
    },
    {
      "cell_type": "code",
      "metadata": {
        "id": "eLCgZeQ3i4h2",
        "colab_type": "code",
        "outputId": "d7d59494-43f9-45fb-e2a1-6b9b3d70dcfe",
        "colab": {
          "base_uri": "https://localhost:8080/",
          "height": 34
        }
      },
      "source": [
        "!ls data/"
      ],
      "execution_count": 68,
      "outputs": [
        {
          "output_type": "stream",
          "text": [
            "test  train\n"
          ],
          "name": "stdout"
        }
      ]
    },
    {
      "cell_type": "code",
      "metadata": {
        "id": "_MH66VLljP_d",
        "colab_type": "code",
        "colab": {}
      },
      "source": [
        "#Dataset Path\n",
        "train_path = \"data/train\"\n",
        "test_path = \"data/test\""
      ],
      "execution_count": 0,
      "outputs": []
    },
    {
      "cell_type": "code",
      "metadata": {
        "id": "p92C6urZjpuA",
        "colab_type": "code",
        "colab": {}
      },
      "source": [
        "#Number of classes\n",
        "from glob import glob\n",
        "category = glob(\"data/train/*\")\n",
        "classes = len(category)"
      ],
      "execution_count": 0,
      "outputs": []
    },
    {
      "cell_type": "code",
      "metadata": {
        "id": "4S3h_9o-j2pA",
        "colab_type": "code",
        "colab": {}
      },
      "source": [
        "#define the path to the serialized output model after training\n",
        "MODEL_PATH = \"fashion_resnet.model\""
      ],
      "execution_count": 0,
      "outputs": []
    },
    {
      "cell_type": "code",
      "metadata": {
        "id": "HEyTK-9ok8gi",
        "colab_type": "code",
        "colab": {}
      },
      "source": [
        "#Initializing the training, testing Augmentation\n",
        "train_datagen = ImageDataGenerator(\n",
        "            rotation_range=25,\n",
        "            zoom_range=0.1,\n",
        "            width_shift_range=0.1,\n",
        "            height_shift_range=0.1,\n",
        "            shear_range=0.2,\n",
        "            horizontal_flip=True,\n",
        "            fill_mode=\"nearest\"\n",
        "            ) \n",
        "\n",
        "\n",
        "test_datagen = ImageDataGenerator()\n"
      ],
      "execution_count": 0,
      "outputs": []
    },
    {
      "cell_type": "code",
      "metadata": {
        "id": "Aaaah8X9pA9d",
        "colab_type": "code",
        "colab": {}
      },
      "source": [
        "\n",
        "#Normalizing Data\n",
        "# define the ImageNet mean subtraction (in RGB order) and set the\n",
        "# the mean subtraction value for each of the data augmentation\n",
        "# objects\n",
        "mean = np.array([123.68, 116.779, 103.939], dtype=\"float32\")\n",
        "train_datagen.mean = mean\n",
        "test_datagen.mean = mean\n",
        "\n",
        "\n",
        "######We can do normalising at ImageDataGenerator by adding rescaling parameter\n",
        "\n"
      ],
      "execution_count": 0,
      "outputs": []
    },
    {
      "cell_type": "code",
      "metadata": {
        "id": "OElHPBBxqHcO",
        "colab_type": "code",
        "outputId": "90bea599-a2f9-4633-c38c-8161a037e6e7",
        "colab": {
          "base_uri": "https://localhost:8080/",
          "height": 68
        }
      },
      "source": [
        "#Initializing the Training, Testing and Validation Generator\n",
        "\n",
        "train_set = train_datagen.flow_from_directory(\n",
        "                                              train_path,\n",
        "                                              target_size = (224,224),\n",
        "                                              class_mode = 'categorical',\n",
        "                                              batch_size = 32,\n",
        "                                              color_mode = 'rgb',\n",
        "                                              shuffle = True\n",
        "                                              )\n",
        "\n",
        "test_set = test_datagen.flow_from_directory(\n",
        "                                              test_path,\n",
        "                                              target_size = (224,224),\n",
        "                                              class_mode = 'categorical',\n",
        "                                              batch_size = 32,\n",
        "                                              color_mode = 'rgb',\n",
        "                                              shuffle = False\n",
        "                                            )\n",
        "\n",
        "Validation_set = test_datagen.flow_from_directory(\n",
        "                                              test_path,\n",
        "                                              target_size = (224,224),\n",
        "                                              class_mode = 'categorical',\n",
        "                                              batch_size = 32,\n",
        "                                              color_mode = 'rgb',\n",
        "                                              shuffle = False\n",
        "                                              )\n",
        "\n",
        "\n"
      ],
      "execution_count": 75,
      "outputs": [
        {
          "output_type": "stream",
          "text": [
            "Found 475 images belonging to 4 classes.\n",
            "Found 264 images belonging to 4 classes.\n",
            "Found 264 images belonging to 4 classes.\n"
          ],
          "name": "stdout"
        }
      ]
    },
    {
      "cell_type": "code",
      "metadata": {
        "id": "q_tMQVSnrkbw",
        "colab_type": "code",
        "colab": {
          "base_uri": "https://localhost:8080/",
          "height": 71
        },
        "outputId": "bd99bcac-33c2-418a-d1bd-ef77b22fe907"
      },
      "source": [
        "##Load ResNet50\n",
        "base_model = ResNet50(weights = 'imagenet', include_top = False, input_tensor=Input(shape=(224, 224, 3)))"
      ],
      "execution_count": 76,
      "outputs": [
        {
          "output_type": "stream",
          "text": [
            "/usr/local/lib/python3.6/dist-packages/keras_applications/resnet50.py:265: UserWarning: The output shape of `ResNet50(include_top=False)` has been changed since Keras 2.2.0.\n",
            "  warnings.warn('The output shape of `ResNet50(include_top=False)` '\n"
          ],
          "name": "stderr"
        }
      ]
    },
    {
      "cell_type": "code",
      "metadata": {
        "id": "NxDCQL8DTFrN",
        "colab_type": "code",
        "colab": {}
      },
      "source": [
        "#Construct the FNN for ResNet50\n",
        "model = base_model.output\n",
        "model = AveragePooling2D(pool_size=(7,7))(model)\n",
        "model = Flatten(name = 'flatten')(model)\n",
        "model = Dense(256, activation='relu')(model)\n",
        "model = Dropout(0.5)(model)\n",
        "model = Dense(classes, activation='softmax')(model)\n",
        "\n",
        "finalModel = Model(inputs = base_model.input, outputs = model )\n"
      ],
      "execution_count": 0,
      "outputs": []
    },
    {
      "cell_type": "code",
      "metadata": {
        "id": "Y2gl-c-KUcxL",
        "colab_type": "code",
        "colab": {}
      },
      "source": [
        "# loop over all layers in the base model and freeze them so they will\n",
        "# *not* be updated during the training process\n",
        "\n",
        "for layer in base_model.layers:\n",
        "  layer.trainable = False"
      ],
      "execution_count": 0,
      "outputs": []
    },
    {
      "cell_type": "code",
      "metadata": {
        "id": "PsI8fXeaVhrD",
        "colab_type": "code",
        "colab": {}
      },
      "source": [
        "#Compiling Model\n",
        "\n",
        "INIT_LR = 1e-4\n",
        "NUM_EPOCHS = 20\n",
        "\n",
        "opt = Adam(lr=INIT_LR, decay = INIT_LR/NUM_EPOCHS)\n",
        "\n",
        "finalModel.compile(optimizer=opt, loss = 'binary_crossentropy', metrics = ['accuracy'])\n"
      ],
      "execution_count": 0,
      "outputs": []
    },
    {
      "cell_type": "code",
      "metadata": {
        "id": "T-Jj_8w7Zg5v",
        "colab_type": "code",
        "colab": {
          "base_uri": "https://localhost:8080/",
          "height": 748
        },
        "outputId": "b66f18af-5ff5-4b13-8099-8350f9f1f2b5"
      },
      "source": [
        "##Train the model\n",
        "BS = 32\n",
        "finalModel.fit_generator(\n",
        "                         train_set, \n",
        "                         steps_per_epoch=len(list(paths.list_files(train_path))) // BS,\n",
        "                         epochs = NUM_EPOCHS,\n",
        "                         validation_data = Validation_set,\n",
        "                         validation_steps = len(list(paths.list_files(test_path))) // BS\n",
        "                         )"
      ],
      "execution_count": 81,
      "outputs": [
        {
          "output_type": "stream",
          "text": [
            "Epoch 1/20\n"
          ],
          "name": "stdout"
        },
        {
          "output_type": "stream",
          "text": [
            "/usr/local/lib/python3.6/dist-packages/PIL/Image.py:932: UserWarning: Palette images with Transparency expressed in bytes should be converted to RGBA images\n",
            "  \"Palette images with Transparency expressed in bytes should be \"\n"
          ],
          "name": "stderr"
        },
        {
          "output_type": "stream",
          "text": [
            "14/14 [==============================] - 19s 1s/step - loss: 0.6498 - accuracy: 0.7015 - val_loss: 0.3193 - val_accuracy: 0.8184\n",
            "Epoch 2/20\n",
            "14/14 [==============================] - 16s 1s/step - loss: 0.3893 - accuracy: 0.8253 - val_loss: 0.2285 - val_accuracy: 0.9030\n",
            "Epoch 3/20\n",
            "14/14 [==============================] - 15s 1s/step - loss: 0.2417 - accuracy: 0.9007 - val_loss: 0.0357 - val_accuracy: 0.9364\n",
            "Epoch 4/20\n",
            "14/14 [==============================] - 14s 988ms/step - loss: 0.1697 - accuracy: 0.9503 - val_loss: 0.0508 - val_accuracy: 0.9612\n",
            "Epoch 5/20\n",
            "14/14 [==============================] - 14s 981ms/step - loss: 0.1445 - accuracy: 0.9509 - val_loss: 0.1701 - val_accuracy: 0.9634\n",
            "Epoch 6/20\n",
            "14/14 [==============================] - 17s 1s/step - loss: 0.1103 - accuracy: 0.9661 - val_loss: 0.0831 - val_accuracy: 0.9752\n",
            "Epoch 7/20\n",
            "14/14 [==============================] - 14s 981ms/step - loss: 0.0955 - accuracy: 0.9704 - val_loss: 0.1136 - val_accuracy: 0.9752\n",
            "Epoch 8/20\n",
            "14/14 [==============================] - 13s 964ms/step - loss: 0.0775 - accuracy: 0.9737 - val_loss: 0.0394 - val_accuracy: 0.9784\n",
            "Epoch 9/20\n",
            "14/14 [==============================] - 14s 1s/step - loss: 0.0809 - accuracy: 0.9735 - val_loss: 0.0597 - val_accuracy: 0.9806\n",
            "Epoch 10/20\n",
            "14/14 [==============================] - 15s 1s/step - loss: 0.0783 - accuracy: 0.9743 - val_loss: 0.0473 - val_accuracy: 0.9785\n",
            "Epoch 11/20\n",
            "14/14 [==============================] - 16s 1s/step - loss: 0.0784 - accuracy: 0.9749 - val_loss: 0.0733 - val_accuracy: 0.9774\n",
            "Epoch 12/20\n",
            "14/14 [==============================] - 15s 1s/step - loss: 0.0460 - accuracy: 0.9883 - val_loss: 0.0217 - val_accuracy: 0.9806\n",
            "Epoch 13/20\n",
            "14/14 [==============================] - 14s 992ms/step - loss: 0.0451 - accuracy: 0.9853 - val_loss: 0.0452 - val_accuracy: 0.9795\n",
            "Epoch 14/20\n",
            "14/14 [==============================] - 14s 986ms/step - loss: 0.0544 - accuracy: 0.9834 - val_loss: 0.0471 - val_accuracy: 0.9795\n",
            "Epoch 15/20\n",
            "14/14 [==============================] - 15s 1s/step - loss: 0.0556 - accuracy: 0.9827 - val_loss: 0.0456 - val_accuracy: 0.9849\n",
            "Epoch 16/20\n",
            "14/14 [==============================] - 14s 987ms/step - loss: 0.0440 - accuracy: 0.9870 - val_loss: 0.0331 - val_accuracy: 0.9828\n",
            "Epoch 17/20\n",
            "14/14 [==============================] - 15s 1s/step - loss: 0.0440 - accuracy: 0.9876 - val_loss: 0.0354 - val_accuracy: 0.9828\n",
            "Epoch 18/20\n",
            "14/14 [==============================] - 14s 1s/step - loss: 0.0326 - accuracy: 0.9927 - val_loss: 0.0468 - val_accuracy: 0.9860\n",
            "Epoch 19/20\n",
            "14/14 [==============================] - 15s 1s/step - loss: 0.0523 - accuracy: 0.9814 - val_loss: 0.0170 - val_accuracy: 0.9854\n",
            "Epoch 20/20\n",
            "14/14 [==============================] - 15s 1s/step - loss: 0.0354 - accuracy: 0.9888 - val_loss: 0.0589 - val_accuracy: 0.9860\n"
          ],
          "name": "stdout"
        },
        {
          "output_type": "execute_result",
          "data": {
            "text/plain": [
              "<keras.callbacks.callbacks.History at 0x7f3041f09b70>"
            ]
          },
          "metadata": {
            "tags": []
          },
          "execution_count": 81
        }
      ]
    },
    {
      "cell_type": "code",
      "metadata": {
        "id": "FSfKpkeWb-Y1",
        "colab_type": "code",
        "colab": {}
      },
      "source": [
        "##Reset the testing generator and then use our trained model to make prediction of the data\n",
        "test_set.reset()"
      ],
      "execution_count": 0,
      "outputs": []
    },
    {
      "cell_type": "code",
      "metadata": {
        "id": "NDFVMGuSiNkV",
        "colab_type": "code",
        "colab": {
          "base_uri": "https://localhost:8080/",
          "height": 187
        },
        "outputId": "bd5686bb-165b-448b-dc89-a4f9fc5b6d67"
      },
      "source": [
        "predIndex = finalModel.predict_generator(test_set, steps = (len(list(paths.list_files(test_path))) // BS) + 1)\n",
        "predIndex"
      ],
      "execution_count": 83,
      "outputs": [
        {
          "output_type": "stream",
          "text": [
            "/usr/local/lib/python3.6/dist-packages/PIL/Image.py:932: UserWarning: Palette images with Transparency expressed in bytes should be converted to RGBA images\n",
            "  \"Palette images with Transparency expressed in bytes should be \"\n"
          ],
          "name": "stderr"
        },
        {
          "output_type": "execute_result",
          "data": {
            "text/plain": [
              "array([[9.9995792e-01, 1.8551329e-05, 1.0233485e-05, 1.3280652e-05],\n",
              "       [9.9889177e-01, 1.2173413e-05, 2.3163410e-04, 8.6447975e-04],\n",
              "       [9.9497038e-01, 1.7983170e-03, 5.3580437e-04, 2.6955055e-03],\n",
              "       ...,\n",
              "       [1.6961514e-03, 5.9259112e-04, 1.0298775e-04, 9.9760830e-01],\n",
              "       [1.6375045e-05, 3.0287070e-05, 3.3158783e-05, 9.9992025e-01],\n",
              "       [8.1717650e-07, 6.7873536e-08, 3.4928044e-06, 9.9999571e-01]],\n",
              "      dtype=float32)"
            ]
          },
          "metadata": {
            "tags": []
          },
          "execution_count": 83
        }
      ]
    },
    {
      "cell_type": "code",
      "metadata": {
        "id": "rlGT9VeDidGd",
        "colab_type": "code",
        "colab": {
          "base_uri": "https://localhost:8080/",
          "height": 221
        },
        "outputId": "1ff561b1-33ca-48ec-df19-53cc2e8f6fe4"
      },
      "source": [
        "# for each image in the testing set we need to find the index of the\n",
        "# label with corresponding largest predicted probability\n",
        "predIndex = np.argmax(predIndex, axis=1)\n",
        "predIndex"
      ],
      "execution_count": 84,
      "outputs": [
        {
          "output_type": "execute_result",
          "data": {
            "text/plain": [
              "array([0, 0, 0, 0, 0, 0, 0, 0, 0, 0, 0, 3, 0, 0, 0, 0, 0, 0, 0, 0, 0, 0,\n",
              "       0, 0, 0, 0, 0, 0, 0, 0, 0, 0, 0, 0, 0, 0, 0, 0, 0, 0, 0, 0, 0, 0,\n",
              "       0, 0, 0, 0, 0, 0, 0, 0, 0, 0, 0, 0, 0, 0, 0, 0, 0, 0, 0, 0, 0, 0,\n",
              "       1, 1, 1, 1, 1, 1, 1, 1, 1, 1, 3, 1, 1, 1, 1, 1, 1, 1, 1, 1, 1, 1,\n",
              "       1, 1, 1, 1, 1, 1, 1, 1, 1, 1, 1, 1, 1, 1, 1, 1, 1, 1, 1, 1, 1, 1,\n",
              "       1, 1, 1, 1, 1, 1, 1, 1, 1, 1, 1, 1, 1, 1, 1, 1, 1, 1, 1, 1, 1, 1,\n",
              "       2, 2, 2, 2, 2, 2, 2, 1, 2, 2, 2, 2, 2, 2, 2, 2, 2, 2, 2, 2, 2, 2,\n",
              "       2, 2, 2, 2, 2, 2, 2, 2, 2, 2, 2, 2, 2, 2, 2, 2, 2, 2, 2, 2, 2, 2,\n",
              "       2, 2, 2, 2, 1, 2, 2, 2, 2, 2, 2, 2, 2, 2, 2, 2, 3, 2, 2, 2, 2, 2,\n",
              "       3, 3, 3, 3, 3, 1, 3, 3, 3, 3, 3, 3, 3, 3, 3, 3, 3, 3, 3, 3, 3, 3,\n",
              "       3, 3, 3, 3, 3, 3, 3, 3, 3, 3, 3, 3, 3, 3, 3, 3, 3, 3, 3, 3, 3, 3,\n",
              "       3, 3, 3, 3, 3, 3, 3, 3, 3, 3, 3, 3, 3, 3, 3, 3, 3, 3, 3, 3, 3, 3])"
            ]
          },
          "metadata": {
            "tags": []
          },
          "execution_count": 84
        }
      ]
    },
    {
      "cell_type": "code",
      "metadata": {
        "id": "5APD98dbjHYo",
        "colab_type": "code",
        "colab": {
          "base_uri": "https://localhost:8080/",
          "height": 221
        },
        "outputId": "decd6e33-6b92-4d19-d896-5fb06748646b"
      },
      "source": [
        "#Display nicely formatted classification report\n",
        "print(classification_report(test_set.classes, predIndex, target_names=test_set.class_indices.keys()))\n",
        "\n",
        "print(\"[INFO] saving model ....\")\n",
        "#finalModel.save(MODEL_PATH, save_format='h5')\n",
        "finalModel.save(MODEL_PATH)"
      ],
      "execution_count": 85,
      "outputs": [
        {
          "output_type": "stream",
          "text": [
            "              precision    recall  f1-score   support\n",
            "\n",
            "    backpack       1.00      0.98      0.99        66\n",
            "    footwear       0.96      0.98      0.97        66\n",
            "     glasses       1.00      0.95      0.98        66\n",
            "       watch       0.96      0.98      0.97        66\n",
            "\n",
            "    accuracy                           0.98       264\n",
            "   macro avg       0.98      0.98      0.98       264\n",
            "weighted avg       0.98      0.98      0.98       264\n",
            "\n",
            "[INFO] saving model ....\n"
          ],
          "name": "stdout"
        }
      ]
    },
    {
      "cell_type": "code",
      "metadata": {
        "id": "WtOZgxKHluSr",
        "colab_type": "code",
        "colab": {}
      },
      "source": [
        "#Load The model\n",
        "model_loaded = keras.models.load_model(MODEL_PATH)"
      ],
      "execution_count": 0,
      "outputs": []
    },
    {
      "cell_type": "code",
      "metadata": {
        "id": "T4qN5N1qtoTq",
        "colab_type": "code",
        "colab": {
          "base_uri": "https://localhost:8080/",
          "height": 34
        },
        "outputId": "070b9bbb-e1af-4a5c-d822-ff362fdb22d5"
      },
      "source": [
        "!pwd"
      ],
      "execution_count": 87,
      "outputs": [
        {
          "output_type": "stream",
          "text": [
            "/content\n"
          ],
          "name": "stdout"
        }
      ]
    },
    {
      "cell_type": "code",
      "metadata": {
        "id": "eK1EdQcmyumA",
        "colab_type": "code",
        "colab": {
          "base_uri": "https://localhost:8080/",
          "height": 34
        },
        "outputId": "88f203fb-540c-4740-bed0-46a7aa5393e4"
      },
      "source": [
        "!ls /content/data/test"
      ],
      "execution_count": 112,
      "outputs": [
        {
          "output_type": "stream",
          "text": [
            "backpack  footwear  glasses  watch\n"
          ],
          "name": "stdout"
        }
      ]
    },
    {
      "cell_type": "code",
      "metadata": {
        "id": "dtGAtvqYtqoC",
        "colab_type": "code",
        "colab": {
          "base_uri": "https://localhost:8080/",
          "height": 255
        },
        "outputId": "76fdfc45-6b74-4342-c7d8-cdf830cbda49"
      },
      "source": [
        "!ls /content/data/test/watch"
      ],
      "execution_count": 122,
      "outputs": [
        {
          "output_type": "stream",
          "text": [
            "00000000.jpg  00000016.jpg  00000032.jpeg  00000049.jpg   00000069.jpg\n",
            "00000001.jpg  00000018.jpg  00000033.jpg   00000050.jpg   00000070.jpg\n",
            "00000002.jpg  00000019.jpg  00000034.jpg   00000051.jpg   00000071.jpg\n",
            "00000003.jpg  00000020.jpg  00000035.jpg   00000053.jpg   00000072.jpg\n",
            "00000004.jpg  00000022.jpg  00000037.jpg   00000054.jpg   00000073.jpg\n",
            "00000005.jpg  00000023.jpg  00000038.jpg   00000055.jpeg  00000074.jpg\n",
            "00000006.jpg  00000024.jpg  00000039.jpeg  00000057.jpg   00000075.jpg\n",
            "00000007.jpg  00000025.jpg  00000041.jpg   00000059.jpg   00000076.jpg\n",
            "00000008.jpg  00000026.jpg  00000042.jpg   00000060.jpg   00000079.jpg\n",
            "00000010.jpg  00000027.jpg  00000043.jpg   00000061.jpg   00000080.jpg\n",
            "00000011.jpg  00000028.jpg  00000044.jpg   00000063.jpg\n",
            "00000012.jpg  00000029.jpg  00000045.jpg   00000064.jpeg\n",
            "00000014.jpg  00000030.jpg  00000046.jpg   00000066.jpg\n",
            "00000015.jpg  00000031.jpg  00000048.jpeg  00000067.jpg\n"
          ],
          "name": "stdout"
        }
      ]
    },
    {
      "cell_type": "code",
      "metadata": {
        "id": "N9DI9utGtxvJ",
        "colab_type": "code",
        "colab": {}
      },
      "source": [
        "import matplotlib.pyplot as plt\n",
        "from google.colab.patches import cv2_imshow\n",
        "from skimage import io"
      ],
      "execution_count": 0,
      "outputs": []
    },
    {
      "cell_type": "code",
      "metadata": {
        "id": "hLISY338uICD",
        "colab_type": "code",
        "colab": {
          "base_uri": "https://localhost:8080/",
          "height": 258
        },
        "outputId": "b02a5955-af2c-42ee-cd93-d7c980e82547"
      },
      "source": [
        "input_img = \"/content/data/test/watch/00000025.jpg\"\n",
        "input_img = io.imread(input_img)\n",
        "input_img = cv2.resize(input_img, dsize = (224, 224), interpolation=cv2.INTER_CUBIC)\n",
        "print('Input Dimensions - Image : ',input_img.shape)\n",
        "cv2_imshow(input_img)"
      ],
      "execution_count": 123,
      "outputs": [
        {
          "output_type": "stream",
          "text": [
            "Input Dimensions - Image :  (224, 224, 3)\n"
          ],
          "name": "stdout"
        },
        {
          "output_type": "display_data",
          "data": {
            "image/png": "[encoded data removed]",
            "text/plain": [
              "<PIL.Image.Image image mode=RGB size=224x224 at 0x7F303D4394E0>"
            ]
          },
          "metadata": {
            "tags": []
          }
        }
      ]
    },
    {
      "cell_type": "code",
      "metadata": {
        "id": "SkG5A5beu4Ic",
        "colab_type": "code",
        "colab": {
          "base_uri": "https://localhost:8080/",
          "height": 34
        },
        "outputId": "8e62b511-01e6-44fb-ec40-618fb400a2a5"
      },
      "source": [
        "#Making prediction of the above img\n",
        "input_img.shape"
      ],
      "execution_count": 124,
      "outputs": [
        {
          "output_type": "execute_result",
          "data": {
            "text/plain": [
              "(224, 224, 3)"
            ]
          },
          "metadata": {
            "tags": []
          },
          "execution_count": 124
        }
      ]
    },
    {
      "cell_type": "code",
      "metadata": {
        "id": "fwahOoVkwDOU",
        "colab_type": "code",
        "colab": {}
      },
      "source": [
        "x = image.img_to_array(input_img)\n",
        "x = np.expand_dims(x, axis=0)"
      ],
      "execution_count": 0,
      "outputs": []
    },
    {
      "cell_type": "code",
      "metadata": {
        "id": "RyUvQoILwZ-G",
        "colab_type": "code",
        "colab": {
          "base_uri": "https://localhost:8080/",
          "height": 34
        },
        "outputId": "75dc6c07-79d2-4fda-b516-6b0a16a67f16"
      },
      "source": [
        "x.shape"
      ],
      "execution_count": 126,
      "outputs": [
        {
          "output_type": "execute_result",
          "data": {
            "text/plain": [
              "(1, 224, 224, 3)"
            ]
          },
          "metadata": {
            "tags": []
          },
          "execution_count": 126
        }
      ]
    },
    {
      "cell_type": "code",
      "metadata": {
        "id": "O8h2VOxuwluv",
        "colab_type": "code",
        "colab": {}
      },
      "source": [
        "x = preprocess_input(x)"
      ],
      "execution_count": 0,
      "outputs": []
    },
    {
      "cell_type": "code",
      "metadata": {
        "id": "oFGjXLyCxcFX",
        "colab_type": "code",
        "colab": {
          "base_uri": "https://localhost:8080/",
          "height": 34
        },
        "outputId": "7f745cd6-7d52-447a-8fe9-6d3e09d8ab86"
      },
      "source": [
        "x.shape"
      ],
      "execution_count": 128,
      "outputs": [
        {
          "output_type": "execute_result",
          "data": {
            "text/plain": [
              "(1, 224, 224, 3)"
            ]
          },
          "metadata": {
            "tags": []
          },
          "execution_count": 128
        }
      ]
    },
    {
      "cell_type": "code",
      "metadata": {
        "id": "T6QhL_2exdd-",
        "colab_type": "code",
        "colab": {
          "base_uri": "https://localhost:8080/",
          "height": 51
        },
        "outputId": "84ddb5d0-47c7-443f-ce67-6b2928f31cd5"
      },
      "source": [
        "pred = model_loaded.predict(x)\n",
        "pred"
      ],
      "execution_count": 130,
      "outputs": [
        {
          "output_type": "execute_result",
          "data": {
            "text/plain": [
              "array([[1.0039501e-02, 5.2114232e-05, 6.6994151e-05, 9.8984140e-01]],\n",
              "      dtype=float32)"
            ]
          },
          "metadata": {
            "tags": []
          },
          "execution_count": 130
        }
      ]
    },
    {
      "cell_type": "code",
      "metadata": {
        "id": "yuZaKweQx4f0",
        "colab_type": "code",
        "colab": {
          "base_uri": "https://localhost:8080/",
          "height": 34
        },
        "outputId": "c28d44ca-9252-4f10-9182-ef1bb6596f81"
      },
      "source": [
        "cls_idx = np.argmax(pred)\n",
        "if cls_idx == 0:\n",
        "  print(\"backpack\")\n",
        "elif cls_idx == 1 :\n",
        "  print(\"footwear\")\n",
        "elif cls_idx == 2:\n",
        "  print(\"glasses\")\n",
        "else:\n",
        "  print(\"watch\")"
      ],
      "execution_count": 131,
      "outputs": [
        {
          "output_type": "stream",
          "text": [
            "watch\n"
          ],
          "name": "stdout"
        }
      ]
    },
    {
      "cell_type": "code",
      "metadata": {
        "id": "4QHUS2l6yE_A",
        "colab_type": "code",
        "colab": {}
      },
      "source": [
        ""
      ],
      "execution_count": 0,
      "outputs": []
    },
    {
      "cell_type": "code",
      "metadata": {
        "id": "AlgaDrfIyfKn",
        "colab_type": "code",
        "colab": {}
      },
      "source": [
        "a = \"/content/data/test/\""
      ],
      "execution_count": 0,
      "outputs": []
    },
    {
      "cell_type": "code",
      "metadata": {
        "id": "CmyW7wL7zpfG",
        "colab_type": "code",
        "colab": {
          "base_uri": "https://localhost:8080/",
          "height": 34
        },
        "outputId": "1fc85298-7380-4ed6-a65a-0f19082e7b4e"
      },
      "source": [
        "test_set.class_indices"
      ],
      "execution_count": 117,
      "outputs": [
        {
          "output_type": "execute_result",
          "data": {
            "text/plain": [
              "{'backpack': 0, 'footwear': 1, 'glasses': 2, 'watch': 3}"
            ]
          },
          "metadata": {
            "tags": []
          },
          "execution_count": 117
        }
      ]
    },
    {
      "cell_type": "code",
      "metadata": {
        "id": "z-5UXV8hz3We",
        "colab_type": "code",
        "colab": {}
      },
      "source": [
        ""
      ],
      "execution_count": 0,
      "outputs": []
    }
  ]
}